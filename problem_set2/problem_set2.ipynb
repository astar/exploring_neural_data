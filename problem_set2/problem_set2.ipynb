{
 "metadata": {
  "name": "",
  "signature": "sha256:77a4bae33e8167375aa8dc5ec393b9eec5127703175e06bf241cf025e12f26e1"
 },
 "nbformat": 3,
 "nbformat_minor": 0,
 "worksheets": [
  {
   "cells": [
    {
     "cell_type": "code",
     "collapsed": false,
     "input": [
      "from problem_set2 import *"
     ],
     "language": "python",
     "metadata": {},
     "outputs": [],
     "prompt_number": 2
    },
    {
     "cell_type": "code",
     "collapsed": false,
     "input": [
      "import pandas as pd"
     ],
     "language": "python",
     "metadata": {},
     "outputs": [
      {
       "output_type": "stream",
       "stream": "stderr",
       "text": [
        "/usr/local/lib/python2.7/dist-packages/pandas/io/excel.py:626: UserWarning: Installed openpyxl is not supported at this time. Use >=1.6.1 and <2.0.0.\n",
        "  .format(openpyxl_compat.start_ver, openpyxl_compat.stop_ver))\n"
       ]
      }
     ],
     "prompt_number": 20
    },
    {
     "cell_type": "code",
     "collapsed": false,
     "input": [
      "%pylab inline"
     ],
     "language": "python",
     "metadata": {},
     "outputs": [
      {
       "output_type": "stream",
       "stream": "stdout",
       "text": [
        "Populating the interactive namespace from numpy and matplotlib\n"
       ]
      },
      {
       "output_type": "stream",
       "stream": "stderr",
       "text": [
        "WARNING: pylab import has clobbered these variables: ['plt']\n",
        "`%matplotlib` prevents importing * from pylab and numpy\n"
       ]
      }
     ],
     "prompt_number": 6
    },
    {
     "cell_type": "code",
     "collapsed": false,
     "input": [
      "trials = load_experiment('trials.npy')"
     ],
     "language": "python",
     "metadata": {},
     "outputs": [],
     "prompt_number": 10
    },
    {
     "cell_type": "code",
     "collapsed": false,
     "input": [
      "trials[:,0].shape"
     ],
     "language": "python",
     "metadata": {},
     "outputs": [
      {
       "metadata": {},
       "output_type": "pyout",
       "prompt_number": 9,
       "text": [
        "(136,)"
       ]
      }
     ],
     "prompt_number": 9
    },
    {
     "cell_type": "code",
     "collapsed": false,
     "input": [
      "plt.hist(trials[:,0])"
     ],
     "language": "python",
     "metadata": {},
     "outputs": [
      {
       "metadata": {},
       "output_type": "pyout",
       "prompt_number": 11,
       "text": [
        "(array([ 17.,  17.,  17.,   0.,  17.,  17.,   0.,  17.,  17.,  17.]),\n",
        " array([   0. ,   31.5,   63. ,   94.5,  126. ,  157.5,  189. ,  220.5,\n",
        "         252. ,  283.5,  315. ]),\n",
        " <a list of 10 Patch objects>)"
       ]
      },
      {
       "metadata": {},
       "output_type": "display_data",
       "png": "[encoded data removed]",
       "text": [
        "<matplotlib.figure.Figure at 0x7f5dd7bef1d0>"
       ]
      }
     ],
     "prompt_number": 11
    },
    {
     "cell_type": "code",
     "collapsed": false,
     "input": [
      "np.unique(trials[:,0]).shape"
     ],
     "language": "python",
     "metadata": {},
     "outputs": [
      {
       "metadata": {},
       "output_type": "pyout",
       "prompt_number": 14,
       "text": [
        "array([   0.,   45.,   90.,  135.,  180.,  225.,  270.,  315.])"
       ]
      }
     ],
     "prompt_number": 14
    },
    {
     "cell_type": "code",
     "collapsed": false,
     "input": [
      "spk_times = load_neuraldata('example_spikes.npy')"
     ],
     "language": "python",
     "metadata": {},
     "outputs": [],
     "prompt_number": 15
    },
    {
     "cell_type": "code",
     "collapsed": false,
     "input": [
      "trials"
     ],
     "language": "python",
     "metadata": {},
     "outputs": [
      {
       "metadata": {},
       "output_type": "pyout",
       "prompt_number": 19,
       "text": [
        "array([[  270.        ,    37.5704    ],\n",
        "       [  135.        ,    43.07356667],\n",
        "       [  315.        ,    49.6166    ],\n",
        "       [  180.        ,    55.60776667],\n",
        "       [  225.        ,    60.427     ],\n",
        "       [   90.        ,    65.76616667],\n",
        "       [   45.        ,    70.99746667],\n",
        "       [  135.        ,    76.2526    ],\n",
        "       [    0.        ,    81.63983333],\n",
        "       [  315.        ,    86.26316667],\n",
        "       [    0.        ,    91.8303    ],\n",
        "       [  270.        ,    97.16553333],\n",
        "       [   90.        ,   102.39276667],\n",
        "       [   45.        ,   107.616     ],\n",
        "       [   45.        ,   113.943     ],\n",
        "       [  225.        ,   119.6062    ],\n",
        "       [  180.        ,   132.34033333],\n",
        "       [  225.        ,   143.23066667],\n",
        "       [  315.        ,   148.282     ],\n",
        "       [    0.        ,   153.44116667],\n",
        "       [  180.        ,   158.82436667],\n",
        "       [   90.        ,   164.37156667],\n",
        "       [  270.        ,   170.05873333],\n",
        "       [  135.        ,   175.618     ],\n",
        "       [   90.        ,   181.585     ],\n",
        "       [  225.        ,   187.5361    ],\n",
        "       [  180.        ,   222.32313333],\n",
        "       [    0.        ,   227.45816667],\n",
        "       [   45.        ,   232.86536667],\n",
        "       [  315.        ,   237.95263333],\n",
        "       [  135.        ,   243.44383333],\n",
        "       [  270.        ,   249.031     ],\n",
        "       [   45.        ,   254.68613333],\n",
        "       [    0.        ,   269.672     ],\n",
        "       [  270.        ,   275.1751    ],\n",
        "       [  225.        ,   280.4224    ],\n",
        "       [  180.        ,   286.31343333],\n",
        "       [  315.        ,   291.43673333],\n",
        "       [  135.        ,   296.41196667],\n",
        "       [   90.        ,   302.2191    ],\n",
        "       [  270.        ,   308.07906667],\n",
        "       [  225.        ,   313.78543333],\n",
        "       [    0.        ,   318.83263333],\n",
        "       [   90.        ,   324.27986667],\n",
        "       [   45.        ,   330.27893333],\n",
        "       [  315.        ,   335.9141    ],\n",
        "       [  135.        ,   341.52126667],\n",
        "       [  180.        ,   347.48843333],\n",
        "       [    0.        ,   352.44363333],\n",
        "       [  180.        ,   357.4069    ],\n",
        "       [  315.        ,   363.86996667],\n",
        "       [   45.        ,   369.07276667],\n",
        "       [  225.        ,   374.9523    ],\n",
        "       [  270.        ,   385.1108    ],\n",
        "       [   90.        ,   391.49386667],\n",
        "       [  135.        ,   403.2281    ],\n",
        "       [   90.        ,   408.54733333],\n",
        "       [   45.        ,   414.58246667],\n",
        "       [  225.        ,   420.32156667],\n",
        "       [  315.        ,   426.20073333],\n",
        "       [    0.        ,   431.4839    ],\n",
        "       [  270.        ,   436.8591    ],\n",
        "       [  180.        ,   445.15793333],\n",
        "       [  135.        ,   455.15243333],\n",
        "       [  270.        ,   460.57956667],\n",
        "       [  180.        ,   469.1943    ],\n",
        "       [   45.        ,   474.95746667],\n",
        "       [   90.        ,   480.86463333],\n",
        "       [  225.        ,   500.84563333],\n",
        "       [  135.        ,   506.79276667],\n",
        "       [  315.        ,   512.4319    ],\n",
        "       [  135.        ,   525.68593333],\n",
        "       [    0.        ,   530.6132    ],\n",
        "       [  270.        ,   540.7117    ],\n",
        "       [   90.        ,   546.12293333],\n",
        "       [  315.        ,   554.56163333],\n",
        "       [  225.        ,   560.12883333],\n",
        "       [    0.        ,   570.7352    ],\n",
        "       [  180.        ,   575.23056667],\n",
        "       [   90.        ,   581.96563333],\n",
        "       [   45.        ,   587.52073333],\n",
        "       [  180.        ,   592.83196667],\n",
        "       [  135.        ,   597.53926667],\n",
        "       [   45.        ,   602.94246667],\n",
        "       [  315.        ,   607.69776667],\n",
        "       [    0.        ,   613.24496667],\n",
        "       [  270.        ,   619.44      ],\n",
        "       [  225.        ,   633.28196667],\n",
        "       [    0.        ,   646.73196667],\n",
        "       [   90.        ,   651.45123333],\n",
        "       [   45.        ,   656.6785    ],\n",
        "       [  315.        ,   662.25366667],\n",
        "       [  135.        ,   667.78883333],\n",
        "       [  180.        ,   673.26003333],\n",
        "       [  225.        ,   677.97933333],\n",
        "       [  270.        ,   683.91043333],\n",
        "       [  180.        ,   689.58556667],\n",
        "       [  270.        ,   701.18386667],\n",
        "       [  225.        ,   707.36373333],\n",
        "       [  315.        ,   713.794     ],\n",
        "       [   90.        ,   719.54513333],\n",
        "       [   45.        ,   729.0997    ],\n",
        "       [    0.        ,   734.21096667],\n",
        "       [  135.        ,   739.2942    ],\n",
        "       [  180.        ,   744.6654    ],\n",
        "       [  315.        ,   749.4487    ],\n",
        "       [   45.        ,   754.02403333],\n",
        "       [    0.        ,   758.73136667],\n",
        "       [  225.        ,   768.39786667],\n",
        "       [   90.        ,   773.95306667],\n",
        "       [  135.        ,   803.8126    ],\n",
        "       [  270.        ,   809.17586667],\n",
        "       [  135.        ,   815.4109    ],\n",
        "       [   90.        ,   821.30613333],\n",
        "       [  315.        ,   826.51726667],\n",
        "       [   45.        ,   832.06443333],\n",
        "       [  270.        ,   837.6276    ],\n",
        "       [  180.        ,   842.83883333],\n",
        "       [  225.        ,   848.18606667],\n",
        "       [    0.        ,   858.17256667],\n",
        "       [    0.        ,   863.69573333],\n",
        "       [  180.        ,   868.971     ],\n",
        "       [  135.        ,   875.25803333],\n",
        "       [   90.        ,   880.49326667],\n",
        "       [  225.        ,   885.75646667],\n",
        "       [   45.        ,   895.93096667],\n",
        "       [  270.        ,   902.14606667],\n",
        "       [  315.        ,   907.98116667],\n",
        "       [   90.        ,  1049.8281    ],\n",
        "       [  180.        ,  1054.89133333],\n",
        "       [  315.        ,  1061.42646667],\n",
        "       [  135.        ,  1067.34946667],\n",
        "       [  225.        ,  1073.03663333],\n",
        "       [    0.        ,  1078.59183333],\n",
        "       [  270.        ,  1084.007     ],\n",
        "       [   45.        ,  1090.15413333]])"
       ]
      }
     ],
     "prompt_number": 19
    },
    {
     "cell_type": "code",
     "collapsed": false,
     "input": [
      "bin_size=0.1"
     ],
     "language": "python",
     "metadata": {},
     "outputs": [],
     "prompt_number": 42
    },
    {
     "cell_type": "code",
     "collapsed": false,
     "input": [
      "def get_cnt_in_bin(spk_times, time, bin_size):\n",
      "    return len(spk_times[(spk_times >= time - bin_size) & (spk_times<= time + bin_size)])"
     ],
     "language": "python",
     "metadata": {},
     "outputs": [],
     "prompt_number": 97
    },
    {
     "cell_type": "code",
     "collapsed": false,
     "input": [
      "df = pd.DataFrame(trials, columns=['angle','time'])"
     ],
     "language": "python",
     "metadata": {},
     "outputs": [],
     "prompt_number": 59
    },
    {
     "cell_type": "code",
     "collapsed": false,
     "input": [
      "df['cnt'] = df.time.apply(get_cnt_in_bin)"
     ],
     "language": "python",
     "metadata": {},
     "outputs": [],
     "prompt_number": 61
    },
    {
     "cell_type": "code",
     "collapsed": false,
     "input": [
      "agg = gb.aggregate(lambda x: np.average(x)/(2*bin_size))\n",
      "agg['angle'] = agg.index\n",
      "direction_rates = agg[['angle', 'cnt']].values"
     ],
     "language": "python",
     "metadata": {},
     "outputs": [],
     "prompt_number": 121
    },
    {
     "cell_type": "code",
     "collapsed": false,
     "input": [
      "ax1 = plt.subplot(2,2,1)\n",
      "ax1.bar(direction_rates[:,0], direction_rates[:,1], width = 45 )\n",
      "ax1.axis([0,360, 0, 40])\n",
      "ax1.set_ylabel('Spike Counts')\n",
      "ax1.set_xlabel('Directions')"
     ],
     "language": "python",
     "metadata": {},
     "outputs": [
      {
       "metadata": {},
       "output_type": "pyout",
       "prompt_number": 132,
       "text": [
        "<matplotlib.text.Text at 0x7f5dd2022390>"
       ]
      },
      {
       "metadata": {},
       "output_type": "display_data",
       "png": "[encoded data removed]",
       "text": [
        "<matplotlib.figure.Figure at 0x7f5dd1ed4f10>"
       ]
      }
     ],
     "prompt_number": 132
    }
   ],
   "metadata": {}
  }
 ]
}